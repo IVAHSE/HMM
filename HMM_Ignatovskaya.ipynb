{
 "cells": [
  {
   "cell_type": "code",
   "execution_count": 211,
   "metadata": {},
   "outputs": [],
   "source": [
    "import numpy as np\n",
    "import pandas as pd"
   ]
  },
  {
   "cell_type": "markdown",
   "metadata": {},
   "source": [
    "#### We have $M$ states and $K$ possible emissions named as $p_M$ and $e_K$.\n",
    "#### We also have a sequence of length L of numbers $e_i$ as I understand."
   ]
  },
  {
   "cell_type": "markdown",
   "metadata": {},
   "source": [
    "#### Firstly, I want to generate emission and transition matrices (row-stochastic as I understand) and begin distribution."
   ]
  },
  {
   "cell_type": "code",
   "execution_count": 320,
   "metadata": {},
   "outputs": [
    {
     "name": "stdout",
     "output_type": "stream",
     "text": [
      "Please enter number of states:10\n",
      "Please enter number of emissions:6\n",
      "Please enter length of sequence:5\n",
      "Random emission and transition matrices and begin distribution are created\n",
      "Generated tables were saved\n"
     ]
    }
   ],
   "source": [
    "# Ask user to enter the dimension of states, emissions and sequence.\n",
    "M = int(input('Please enter number of states:'))\n",
    "K = int(input('Please enter number of emissions:'))\n",
    "L = int(input('Please enter length of sequence:'))\n",
    "# Generate random matrices with index and columns named 'p_i','e_j'\n",
    "transition = pd.DataFrame(np.random.randint(0,10,size=(M, M))).add_prefix('p_').T.add_prefix('p_').T\n",
    "emission = pd.DataFrame(np.random.randint(0,10,size=(M, K))).add_prefix('e_').T.add_prefix('p_').T\n",
    "begin_distribution = pd.DataFrame(np.random.randint(1,10,size=(M, 1))).T.add_prefix('p_').T\n",
    "# Normalize matrices to have row-stochastic\n",
    "transition = transition.div(transition.sum(axis=1),axis=0)\n",
    "emission = emission.div(emission.sum(axis=1),axis=0)\n",
    "begin_distribution = begin_distribution.div(begin_distribution.sum(axis=0),axis=1)\n",
    "print('Random emission and transition matrices and begin distribution are created')\n",
    "#Save matrices\n",
    "transition.to_csv('transition.csv',sep='\\t')\n",
    "emission.to_csv('emission.csv',sep='\\t')\n",
    "begin_distribution.to_csv('begin_distribution.csv',sep='\\t')\n",
    "print('Generated tables were saved')"
   ]
  },
  {
   "cell_type": "markdown",
   "metadata": {},
   "source": [
    "#### Now we read given matrices and distribution with tab-separator."
   ]
  },
  {
   "cell_type": "code",
   "execution_count": 321,
   "metadata": {},
   "outputs": [],
   "source": [
    "#Read given matrices with tab-separator\n",
    "transition1 = pd.read_csv('transition.csv',sep='\\t',index_col=0)\n",
    "emission1 = pd.read_csv('emission.csv',sep='\\t',index_col=0)\n",
    "begin_distribution1 = pd.read_csv('begin_distribution.csv',sep='\\t',index_col=0)"
   ]
  },
  {
   "cell_type": "markdown",
   "metadata": {},
   "source": [
    "#### After reading the transition matrix looks like:"
   ]
  },
  {
   "cell_type": "code",
   "execution_count": 322,
   "metadata": {},
   "outputs": [
    {
     "data": {
      "text/html": [
       "<div>\n",
       "<style scoped>\n",
       "    .dataframe tbody tr th:only-of-type {\n",
       "        vertical-align: middle;\n",
       "    }\n",
       "\n",
       "    .dataframe tbody tr th {\n",
       "        vertical-align: top;\n",
       "    }\n",
       "\n",
       "    .dataframe thead th {\n",
       "        text-align: right;\n",
       "    }\n",
       "</style>\n",
       "<table border=\"1\" class=\"dataframe\">\n",
       "  <thead>\n",
       "    <tr style=\"text-align: right;\">\n",
       "      <th></th>\n",
       "      <th>p_0</th>\n",
       "      <th>p_1</th>\n",
       "      <th>p_2</th>\n",
       "      <th>p_3</th>\n",
       "      <th>p_4</th>\n",
       "      <th>p_5</th>\n",
       "      <th>p_6</th>\n",
       "      <th>p_7</th>\n",
       "      <th>p_8</th>\n",
       "      <th>p_9</th>\n",
       "    </tr>\n",
       "  </thead>\n",
       "  <tbody>\n",
       "    <tr>\n",
       "      <th>p_0</th>\n",
       "      <td>0.085106</td>\n",
       "      <td>0.191489</td>\n",
       "      <td>0.106383</td>\n",
       "      <td>0.191489</td>\n",
       "      <td>0.042553</td>\n",
       "      <td>0.170213</td>\n",
       "      <td>0.085106</td>\n",
       "      <td>0.042553</td>\n",
       "      <td>0.063830</td>\n",
       "      <td>0.021277</td>\n",
       "    </tr>\n",
       "    <tr>\n",
       "      <th>p_1</th>\n",
       "      <td>0.097561</td>\n",
       "      <td>0.195122</td>\n",
       "      <td>0.073171</td>\n",
       "      <td>0.121951</td>\n",
       "      <td>0.170732</td>\n",
       "      <td>0.024390</td>\n",
       "      <td>0.195122</td>\n",
       "      <td>0.024390</td>\n",
       "      <td>0.073171</td>\n",
       "      <td>0.024390</td>\n",
       "    </tr>\n",
       "    <tr>\n",
       "      <th>p_2</th>\n",
       "      <td>0.085106</td>\n",
       "      <td>0.085106</td>\n",
       "      <td>0.191489</td>\n",
       "      <td>0.148936</td>\n",
       "      <td>0.106383</td>\n",
       "      <td>0.042553</td>\n",
       "      <td>0.042553</td>\n",
       "      <td>0.191489</td>\n",
       "      <td>0.021277</td>\n",
       "      <td>0.085106</td>\n",
       "    </tr>\n",
       "    <tr>\n",
       "      <th>p_3</th>\n",
       "      <td>0.062500</td>\n",
       "      <td>0.187500</td>\n",
       "      <td>0.125000</td>\n",
       "      <td>0.093750</td>\n",
       "      <td>0.093750</td>\n",
       "      <td>0.000000</td>\n",
       "      <td>0.000000</td>\n",
       "      <td>0.250000</td>\n",
       "      <td>0.093750</td>\n",
       "      <td>0.093750</td>\n",
       "    </tr>\n",
       "    <tr>\n",
       "      <th>p_4</th>\n",
       "      <td>0.076923</td>\n",
       "      <td>0.038462</td>\n",
       "      <td>0.000000</td>\n",
       "      <td>0.269231</td>\n",
       "      <td>0.192308</td>\n",
       "      <td>0.153846</td>\n",
       "      <td>0.000000</td>\n",
       "      <td>0.192308</td>\n",
       "      <td>0.000000</td>\n",
       "      <td>0.076923</td>\n",
       "    </tr>\n",
       "    <tr>\n",
       "      <th>p_5</th>\n",
       "      <td>0.200000</td>\n",
       "      <td>0.100000</td>\n",
       "      <td>0.050000</td>\n",
       "      <td>0.125000</td>\n",
       "      <td>0.000000</td>\n",
       "      <td>0.025000</td>\n",
       "      <td>0.150000</td>\n",
       "      <td>0.200000</td>\n",
       "      <td>0.075000</td>\n",
       "      <td>0.075000</td>\n",
       "    </tr>\n",
       "    <tr>\n",
       "      <th>p_6</th>\n",
       "      <td>0.000000</td>\n",
       "      <td>0.114286</td>\n",
       "      <td>0.028571</td>\n",
       "      <td>0.057143</td>\n",
       "      <td>0.257143</td>\n",
       "      <td>0.000000</td>\n",
       "      <td>0.142857</td>\n",
       "      <td>0.114286</td>\n",
       "      <td>0.200000</td>\n",
       "      <td>0.085714</td>\n",
       "    </tr>\n",
       "    <tr>\n",
       "      <th>p_7</th>\n",
       "      <td>0.065217</td>\n",
       "      <td>0.086957</td>\n",
       "      <td>0.108696</td>\n",
       "      <td>0.152174</td>\n",
       "      <td>0.195652</td>\n",
       "      <td>0.021739</td>\n",
       "      <td>0.173913</td>\n",
       "      <td>0.108696</td>\n",
       "      <td>0.065217</td>\n",
       "      <td>0.021739</td>\n",
       "    </tr>\n",
       "    <tr>\n",
       "      <th>p_8</th>\n",
       "      <td>0.200000</td>\n",
       "      <td>0.175000</td>\n",
       "      <td>0.075000</td>\n",
       "      <td>0.125000</td>\n",
       "      <td>0.000000</td>\n",
       "      <td>0.025000</td>\n",
       "      <td>0.125000</td>\n",
       "      <td>0.050000</td>\n",
       "      <td>0.225000</td>\n",
       "      <td>0.000000</td>\n",
       "    </tr>\n",
       "    <tr>\n",
       "      <th>p_9</th>\n",
       "      <td>0.159091</td>\n",
       "      <td>0.090909</td>\n",
       "      <td>0.045455</td>\n",
       "      <td>0.090909</td>\n",
       "      <td>0.068182</td>\n",
       "      <td>0.204545</td>\n",
       "      <td>0.204545</td>\n",
       "      <td>0.090909</td>\n",
       "      <td>0.022727</td>\n",
       "      <td>0.022727</td>\n",
       "    </tr>\n",
       "  </tbody>\n",
       "</table>\n",
       "</div>"
      ],
      "text/plain": [
       "          p_0       p_1       p_2       p_3       p_4       p_5       p_6  \\\n",
       "p_0  0.085106  0.191489  0.106383  0.191489  0.042553  0.170213  0.085106   \n",
       "p_1  0.097561  0.195122  0.073171  0.121951  0.170732  0.024390  0.195122   \n",
       "p_2  0.085106  0.085106  0.191489  0.148936  0.106383  0.042553  0.042553   \n",
       "p_3  0.062500  0.187500  0.125000  0.093750  0.093750  0.000000  0.000000   \n",
       "p_4  0.076923  0.038462  0.000000  0.269231  0.192308  0.153846  0.000000   \n",
       "p_5  0.200000  0.100000  0.050000  0.125000  0.000000  0.025000  0.150000   \n",
       "p_6  0.000000  0.114286  0.028571  0.057143  0.257143  0.000000  0.142857   \n",
       "p_7  0.065217  0.086957  0.108696  0.152174  0.195652  0.021739  0.173913   \n",
       "p_8  0.200000  0.175000  0.075000  0.125000  0.000000  0.025000  0.125000   \n",
       "p_9  0.159091  0.090909  0.045455  0.090909  0.068182  0.204545  0.204545   \n",
       "\n",
       "          p_7       p_8       p_9  \n",
       "p_0  0.042553  0.063830  0.021277  \n",
       "p_1  0.024390  0.073171  0.024390  \n",
       "p_2  0.191489  0.021277  0.085106  \n",
       "p_3  0.250000  0.093750  0.093750  \n",
       "p_4  0.192308  0.000000  0.076923  \n",
       "p_5  0.200000  0.075000  0.075000  \n",
       "p_6  0.114286  0.200000  0.085714  \n",
       "p_7  0.108696  0.065217  0.021739  \n",
       "p_8  0.050000  0.225000  0.000000  \n",
       "p_9  0.090909  0.022727  0.022727  "
      ]
     },
     "execution_count": 322,
     "metadata": {},
     "output_type": "execute_result"
    }
   ],
   "source": [
    "transition1"
   ]
  },
  {
   "cell_type": "markdown",
   "metadata": {},
   "source": [
    "#### Then we need to generate some sequence of length $L$ of alphabet $e_k$"
   ]
  },
  {
   "cell_type": "code",
   "execution_count": 323,
   "metadata": {},
   "outputs": [],
   "source": [
    "# select some state for generating simulated path\n",
    "def random_choice(distribution,p):\n",
    "    s = np.random.random()*distribution[p].sum()\n",
    "    for i in range(len(distribution)):\n",
    "        s = s - distribution[p]['p_'+str(i)]\n",
    "        if s < 0:\n",
    "            return 'p_'+str(i)\n",
    "\n",
    "# select some emission for generating sequence        \n",
    "def random_choice2(distribution,p):\n",
    "    s = np.random.random()*distribution[p].sum()\n",
    "    for i in range(len(distribution)):\n",
    "        s = s - distribution[p]['e_'+str(i)]\n",
    "        if s < 0:\n",
    "            return 'e_'+str(i)\n",
    "\n",
    "#function of generating simulated path\n",
    "def HMM_random_generator_path(begin_distribution1,transition1,L):\n",
    "    path = []\n",
    "    path.append(random_choice(begin_distribution1,'0'))\n",
    "    for i in range(1,L):\n",
    "        path.append(random_choice(pd.DataFrame(transition1.T[path[i-1]]),path[i-1]))\n",
    "    return path\n",
    "\n",
    "#function of generating sequence\n",
    "def HMM_random_generator_sequence(states,emission1,L):\n",
    "    sequence = []\n",
    "    for i in range(L):\n",
    "        sequence.append(random_choice2(pd.DataFrame(emission1.T[states[i]]),states[i]))\n",
    "    return sequence"
   ]
  },
  {
   "cell_type": "code",
   "execution_count": 324,
   "metadata": {},
   "outputs": [],
   "source": [
    "#generating path and sequence\n",
    "simulated_path = HMM_random_generator_path(begin_distribution1,transition1,L)\n",
    "sequence = HMM_random_generator_sequence(simulated_path,emission1,L)"
   ]
  },
  {
   "cell_type": "code",
   "execution_count": 325,
   "metadata": {},
   "outputs": [
    {
     "data": {
      "text/plain": [
       "['p_8', 'p_6', 'p_8', 'p_8', 'p_6']"
      ]
     },
     "execution_count": 325,
     "metadata": {},
     "output_type": "execute_result"
    }
   ],
   "source": [
    "simulated_path"
   ]
  },
  {
   "cell_type": "code",
   "execution_count": 326,
   "metadata": {},
   "outputs": [
    {
     "data": {
      "text/plain": [
       "['e_4', 'e_2', 'e_2', 'e_0', 'e_0']"
      ]
     },
     "execution_count": 326,
     "metadata": {},
     "output_type": "execute_result"
    }
   ],
   "source": [
    "sequence"
   ]
  },
  {
   "cell_type": "markdown",
   "metadata": {},
   "source": [
    "### Forward Algorithm"
   ]
  },
  {
   "cell_type": "code",
   "execution_count": 327,
   "metadata": {},
   "outputs": [],
   "source": [
    "#function for forward algorithm\n",
    "def forward_propagation(begin_distribution1,transition1,emission1,sequence):\n",
    "    F = np.zeros((L,M))\n",
    "    F[0] = begin_distribution1['0']*emission1[sequence[0]]\n",
    "    for i in range(1,L):\n",
    "        F[i] = F[i-1]@transition1*emission1[sequence[i]]\n",
    "    return pd.DataFrame(F).add_prefix('p_').T\n",
    "\n",
    "#function for calculating P(x)\n",
    "def P(data,L):\n",
    "    return data[L-1].sum()"
   ]
  },
  {
   "cell_type": "code",
   "execution_count": 328,
   "metadata": {},
   "outputs": [
    {
     "data": {
      "text/html": [
       "<div>\n",
       "<style scoped>\n",
       "    .dataframe tbody tr th:only-of-type {\n",
       "        vertical-align: middle;\n",
       "    }\n",
       "\n",
       "    .dataframe tbody tr th {\n",
       "        vertical-align: top;\n",
       "    }\n",
       "\n",
       "    .dataframe thead th {\n",
       "        text-align: right;\n",
       "    }\n",
       "</style>\n",
       "<table border=\"1\" class=\"dataframe\">\n",
       "  <thead>\n",
       "    <tr style=\"text-align: right;\">\n",
       "      <th></th>\n",
       "      <th>0</th>\n",
       "      <th>1</th>\n",
       "      <th>2</th>\n",
       "      <th>3</th>\n",
       "      <th>4</th>\n",
       "    </tr>\n",
       "  </thead>\n",
       "  <tbody>\n",
       "    <tr>\n",
       "      <th>p_0</th>\n",
       "      <td>0.020860</td>\n",
       "      <td>0.003931</td>\n",
       "      <td>0.000678</td>\n",
       "      <td>0.000132</td>\n",
       "      <td>0.000016</td>\n",
       "    </tr>\n",
       "    <tr>\n",
       "      <th>p_1</th>\n",
       "      <td>0.000770</td>\n",
       "      <td>0.003899</td>\n",
       "      <td>0.000878</td>\n",
       "      <td>0.000170</td>\n",
       "      <td>0.000025</td>\n",
       "    </tr>\n",
       "    <tr>\n",
       "      <th>p_2</th>\n",
       "      <td>0.011299</td>\n",
       "      <td>0.003742</td>\n",
       "      <td>0.000925</td>\n",
       "      <td>0.000020</td>\n",
       "      <td>0.000003</td>\n",
       "    </tr>\n",
       "    <tr>\n",
       "      <th>p_3</th>\n",
       "      <td>0.030618</td>\n",
       "      <td>0.007246</td>\n",
       "      <td>0.001223</td>\n",
       "      <td>0.000212</td>\n",
       "      <td>0.000025</td>\n",
       "    </tr>\n",
       "    <tr>\n",
       "      <th>p_4</th>\n",
       "      <td>0.040678</td>\n",
       "      <td>0.003536</td>\n",
       "      <td>0.000741</td>\n",
       "      <td>0.000000</td>\n",
       "      <td>0.000000</td>\n",
       "    </tr>\n",
       "    <tr>\n",
       "      <th>p_5</th>\n",
       "      <td>0.035682</td>\n",
       "      <td>0.001862</td>\n",
       "      <td>0.000302</td>\n",
       "      <td>0.000000</td>\n",
       "      <td>0.000000</td>\n",
       "    </tr>\n",
       "    <tr>\n",
       "      <th>p_6</th>\n",
       "      <td>0.014528</td>\n",
       "      <td>0.002503</td>\n",
       "      <td>0.000575</td>\n",
       "      <td>0.000029</td>\n",
       "      <td>0.000005</td>\n",
       "    </tr>\n",
       "    <tr>\n",
       "      <th>p_7</th>\n",
       "      <td>0.005260</td>\n",
       "      <td>0.001991</td>\n",
       "      <td>0.000322</td>\n",
       "      <td>0.000186</td>\n",
       "      <td>0.000020</td>\n",
       "    </tr>\n",
       "    <tr>\n",
       "      <th>p_8</th>\n",
       "      <td>0.019136</td>\n",
       "      <td>0.004276</td>\n",
       "      <td>0.000887</td>\n",
       "      <td>0.000059</td>\n",
       "      <td>0.000007</td>\n",
       "    </tr>\n",
       "    <tr>\n",
       "      <th>p_9</th>\n",
       "      <td>0.000000</td>\n",
       "      <td>0.001206</td>\n",
       "      <td>0.000197</td>\n",
       "      <td>0.000058</td>\n",
       "      <td>0.000006</td>\n",
       "    </tr>\n",
       "  </tbody>\n",
       "</table>\n",
       "</div>"
      ],
      "text/plain": [
       "            0         1         2         3         4\n",
       "p_0  0.020860  0.003931  0.000678  0.000132  0.000016\n",
       "p_1  0.000770  0.003899  0.000878  0.000170  0.000025\n",
       "p_2  0.011299  0.003742  0.000925  0.000020  0.000003\n",
       "p_3  0.030618  0.007246  0.001223  0.000212  0.000025\n",
       "p_4  0.040678  0.003536  0.000741  0.000000  0.000000\n",
       "p_5  0.035682  0.001862  0.000302  0.000000  0.000000\n",
       "p_6  0.014528  0.002503  0.000575  0.000029  0.000005\n",
       "p_7  0.005260  0.001991  0.000322  0.000186  0.000020\n",
       "p_8  0.019136  0.004276  0.000887  0.000059  0.000007\n",
       "p_9  0.000000  0.001206  0.000197  0.000058  0.000006"
      ]
     },
     "execution_count": 328,
     "metadata": {},
     "output_type": "execute_result"
    }
   ],
   "source": [
    "F = forward_propagation(begin_distribution1,transition1,emission1,sequence)\n",
    "F"
   ]
  },
  {
   "cell_type": "markdown",
   "metadata": {},
   "source": [
    "#### For our sequence let's calculate P(x)"
   ]
  },
  {
   "cell_type": "code",
   "execution_count": 330,
   "metadata": {},
   "outputs": [
    {
     "name": "stdout",
     "output_type": "stream",
     "text": [
      "P(x)= 0.00010612766454657125\n"
     ]
    }
   ],
   "source": [
    "print ('P(x)=',P(F,L))"
   ]
  },
  {
   "cell_type": "markdown",
   "metadata": {},
   "source": [
    "### Backward Algorithm"
   ]
  },
  {
   "cell_type": "code",
   "execution_count": 279,
   "metadata": {},
   "outputs": [],
   "source": [
    "#function for backward algorithm\n",
    "def backward_propagation(F,transition1,emission1,sequence1):\n",
    "    F1 = pd.DataFrame(np.zeros((M,L)),index=transition1.index)\n",
    "    F1[len(sequence)-1]=F[len(sequence)-1]\n",
    "    for j in range(len(sequence)-2,-1,-1):\n",
    "        for i in F1.index:\n",
    "            p_sum = 0\n",
    "            for k in F1.index:\n",
    "                p_sum += F1[j+1][k]*transition1[k][i]*emission1[sequence1[j+1]][k]\n",
    "            F1[j][i] = p_sum\n",
    "    return F1"
   ]
  },
  {
   "cell_type": "code",
   "execution_count": 280,
   "metadata": {},
   "outputs": [
    {
     "data": {
      "text/html": [
       "<div>\n",
       "<style scoped>\n",
       "    .dataframe tbody tr th:only-of-type {\n",
       "        vertical-align: middle;\n",
       "    }\n",
       "\n",
       "    .dataframe tbody tr th {\n",
       "        vertical-align: top;\n",
       "    }\n",
       "\n",
       "    .dataframe thead th {\n",
       "        text-align: right;\n",
       "    }\n",
       "</style>\n",
       "<table border=\"1\" class=\"dataframe\">\n",
       "  <thead>\n",
       "    <tr style=\"text-align: right;\">\n",
       "      <th></th>\n",
       "      <th>0</th>\n",
       "      <th>1</th>\n",
       "      <th>2</th>\n",
       "      <th>3</th>\n",
       "      <th>4</th>\n",
       "    </tr>\n",
       "  </thead>\n",
       "  <tbody>\n",
       "    <tr>\n",
       "      <th>p_0</th>\n",
       "      <td>1.338267e-08</td>\n",
       "      <td>8.203740e-08</td>\n",
       "      <td>4.839560e-07</td>\n",
       "      <td>0.000002</td>\n",
       "      <td>0.000000</td>\n",
       "    </tr>\n",
       "    <tr>\n",
       "      <th>p_1</th>\n",
       "      <td>1.066438e-08</td>\n",
       "      <td>6.454379e-08</td>\n",
       "      <td>3.900008e-07</td>\n",
       "      <td>0.000002</td>\n",
       "      <td>0.000003</td>\n",
       "    </tr>\n",
       "    <tr>\n",
       "      <th>p_2</th>\n",
       "      <td>1.047285e-08</td>\n",
       "      <td>5.745313e-08</td>\n",
       "      <td>4.787047e-07</td>\n",
       "      <td>0.000003</td>\n",
       "      <td>0.000006</td>\n",
       "    </tr>\n",
       "    <tr>\n",
       "      <th>p_3</th>\n",
       "      <td>1.208448e-08</td>\n",
       "      <td>6.339686e-08</td>\n",
       "      <td>4.919553e-07</td>\n",
       "      <td>0.000003</td>\n",
       "      <td>0.000009</td>\n",
       "    </tr>\n",
       "    <tr>\n",
       "      <th>p_4</th>\n",
       "      <td>1.349240e-08</td>\n",
       "      <td>8.183399e-08</td>\n",
       "      <td>3.748705e-07</td>\n",
       "      <td>0.000002</td>\n",
       "      <td>0.000003</td>\n",
       "    </tr>\n",
       "    <tr>\n",
       "      <th>p_5</th>\n",
       "      <td>1.268800e-08</td>\n",
       "      <td>6.211457e-08</td>\n",
       "      <td>5.337845e-07</td>\n",
       "      <td>0.000003</td>\n",
       "      <td>0.000003</td>\n",
       "    </tr>\n",
       "    <tr>\n",
       "      <th>p_6</th>\n",
       "      <td>1.326637e-08</td>\n",
       "      <td>6.910310e-08</td>\n",
       "      <td>4.188851e-07</td>\n",
       "      <td>0.000003</td>\n",
       "      <td>0.000028</td>\n",
       "    </tr>\n",
       "    <tr>\n",
       "      <th>p_7</th>\n",
       "      <td>1.286970e-08</td>\n",
       "      <td>6.943657e-08</td>\n",
       "      <td>6.180503e-07</td>\n",
       "      <td>0.000003</td>\n",
       "      <td>0.000020</td>\n",
       "    </tr>\n",
       "    <tr>\n",
       "      <th>p_8</th>\n",
       "      <td>1.407913e-08</td>\n",
       "      <td>8.153781e-08</td>\n",
       "      <td>3.047299e-07</td>\n",
       "      <td>0.000002</td>\n",
       "      <td>0.000017</td>\n",
       "    </tr>\n",
       "    <tr>\n",
       "      <th>p_9</th>\n",
       "      <td>1.152001e-08</td>\n",
       "      <td>7.769806e-08</td>\n",
       "      <td>4.963827e-07</td>\n",
       "      <td>0.000002</td>\n",
       "      <td>0.000012</td>\n",
       "    </tr>\n",
       "  </tbody>\n",
       "</table>\n",
       "</div>"
      ],
      "text/plain": [
       "                0             1             2         3         4\n",
       "p_0  1.338267e-08  8.203740e-08  4.839560e-07  0.000002  0.000000\n",
       "p_1  1.066438e-08  6.454379e-08  3.900008e-07  0.000002  0.000003\n",
       "p_2  1.047285e-08  5.745313e-08  4.787047e-07  0.000003  0.000006\n",
       "p_3  1.208448e-08  6.339686e-08  4.919553e-07  0.000003  0.000009\n",
       "p_4  1.349240e-08  8.183399e-08  3.748705e-07  0.000002  0.000003\n",
       "p_5  1.268800e-08  6.211457e-08  5.337845e-07  0.000003  0.000003\n",
       "p_6  1.326637e-08  6.910310e-08  4.188851e-07  0.000003  0.000028\n",
       "p_7  1.286970e-08  6.943657e-08  6.180503e-07  0.000003  0.000020\n",
       "p_8  1.407913e-08  8.153781e-08  3.047299e-07  0.000002  0.000017\n",
       "p_9  1.152001e-08  7.769806e-08  4.963827e-07  0.000002  0.000012"
      ]
     },
     "execution_count": 280,
     "metadata": {},
     "output_type": "execute_result"
    }
   ],
   "source": [
    "backward_propagation(F,transition1,emission1,sequence)"
   ]
  },
  {
   "cell_type": "markdown",
   "metadata": {},
   "source": [
    "### Viterbi Algorithm"
   ]
  },
  {
   "cell_type": "code",
   "execution_count": 281,
   "metadata": {},
   "outputs": [],
   "source": [
    "# additional function for getting maximum element in sum of probabilities\n",
    "def get_max(values):\n",
    "    maxv = values[0]\n",
    "    maxi = 0\n",
    "    for ind, val in enumerate(values):\n",
    "        if val>maxv:\n",
    "            maxv = val\n",
    "            maxi = ind\n",
    "    return maxv,maxi"
   ]
  },
  {
   "cell_type": "code",
   "execution_count": 331,
   "metadata": {},
   "outputs": [],
   "source": [
    "#viterbi\n",
    "def viterbi_algorithm(transition1,emission1,sequence1):\n",
    "    F = pd.DataFrame(np.zeros((M,L+1)),index=transition1.index)\n",
    "    F[0]=begin_distribution1['0']\n",
    "    c = pd.DataFrame(np.zeros((M,L+1)),index=transition1.index)\n",
    "    for k in F.columns[1:]:\n",
    "        for i in F.index:\n",
    "            values = []\n",
    "            for j in F.index:\n",
    "                values.append(F[k-1][j]*transition1[i][j]*emission1[sequence1[k-1]][i])\n",
    "            maxv, maxi = get_max(values)\n",
    "            F[k][i] = maxv\n",
    "            c[k][i] = maxi\n",
    "    return F, c"
   ]
  },
  {
   "cell_type": "code",
   "execution_count": 332,
   "metadata": {},
   "outputs": [],
   "source": [
    "F, c = viterbi_algorithm(transition1,emission1,sequence)"
   ]
  },
  {
   "cell_type": "code",
   "execution_count": 333,
   "metadata": {},
   "outputs": [
    {
     "data": {
      "text/html": [
       "<div>\n",
       "<style scoped>\n",
       "    .dataframe tbody tr th:only-of-type {\n",
       "        vertical-align: middle;\n",
       "    }\n",
       "\n",
       "    .dataframe tbody tr th {\n",
       "        vertical-align: top;\n",
       "    }\n",
       "\n",
       "    .dataframe thead th {\n",
       "        text-align: right;\n",
       "    }\n",
       "</style>\n",
       "<table border=\"1\" class=\"dataframe\">\n",
       "  <thead>\n",
       "    <tr style=\"text-align: right;\">\n",
       "      <th></th>\n",
       "      <th>0</th>\n",
       "      <th>1</th>\n",
       "      <th>2</th>\n",
       "      <th>3</th>\n",
       "      <th>4</th>\n",
       "      <th>5</th>\n",
       "    </tr>\n",
       "  </thead>\n",
       "  <tbody>\n",
       "    <tr>\n",
       "      <th>p_0</th>\n",
       "      <td>0.135593</td>\n",
       "      <td>0.004172</td>\n",
       "      <td>0.000249</td>\n",
       "      <td>0.000014</td>\n",
       "      <td>8.845969e-07</td>\n",
       "      <td>1.926138e-08</td>\n",
       "    </tr>\n",
       "    <tr>\n",
       "      <th>p_1</th>\n",
       "      <td>0.016949</td>\n",
       "      <td>0.001180</td>\n",
       "      <td>0.000321</td>\n",
       "      <td>0.000021</td>\n",
       "      <td>8.156703e-07</td>\n",
       "      <td>3.079834e-08</td>\n",
       "    </tr>\n",
       "    <tr>\n",
       "      <th>p_2</th>\n",
       "      <td>0.084746</td>\n",
       "      <td>0.002211</td>\n",
       "      <td>0.000353</td>\n",
       "      <td>0.000023</td>\n",
       "      <td>1.489032e-07</td>\n",
       "      <td>4.483945e-09</td>\n",
       "    </tr>\n",
       "    <tr>\n",
       "      <th>p_3</th>\n",
       "      <td>0.118644</td>\n",
       "      <td>0.009421</td>\n",
       "      <td>0.000622</td>\n",
       "      <td>0.000024</td>\n",
       "      <td>8.052130e-07</td>\n",
       "      <td>4.252515e-08</td>\n",
       "    </tr>\n",
       "    <tr>\n",
       "      <th>p_4</th>\n",
       "      <td>0.135593</td>\n",
       "      <td>0.008954</td>\n",
       "      <td>0.000344</td>\n",
       "      <td>0.000013</td>\n",
       "      <td>0.000000e+00</td>\n",
       "      <td>0.000000e+00</td>\n",
       "    </tr>\n",
       "    <tr>\n",
       "      <th>p_5</th>\n",
       "      <td>0.135593</td>\n",
       "      <td>0.006074</td>\n",
       "      <td>0.000217</td>\n",
       "      <td>0.000008</td>\n",
       "      <td>0.000000e+00</td>\n",
       "      <td>0.000000e+00</td>\n",
       "    </tr>\n",
       "    <tr>\n",
       "      <th>p_6</th>\n",
       "      <td>0.067797</td>\n",
       "      <td>0.005685</td>\n",
       "      <td>0.000174</td>\n",
       "      <td>0.000012</td>\n",
       "      <td>1.970493e-07</td>\n",
       "      <td>1.024902e-08</td>\n",
       "    </tr>\n",
       "    <tr>\n",
       "      <th>p_7</th>\n",
       "      <td>0.152542</td>\n",
       "      <td>0.001023</td>\n",
       "      <td>0.000162</td>\n",
       "      <td>0.000011</td>\n",
       "      <td>1.237569e-06</td>\n",
       "      <td>4.164895e-08</td>\n",
       "    </tr>\n",
       "    <tr>\n",
       "      <th>p_8</th>\n",
       "      <td>0.084746</td>\n",
       "      <td>0.004306</td>\n",
       "      <td>0.000330</td>\n",
       "      <td>0.000022</td>\n",
       "      <td>4.694962e-07</td>\n",
       "      <td>1.022290e-08</td>\n",
       "    </tr>\n",
       "    <tr>\n",
       "      <th>p_9</th>\n",
       "      <td>0.067797</td>\n",
       "      <td>0.000000</td>\n",
       "      <td>0.000093</td>\n",
       "      <td>0.000006</td>\n",
       "      <td>3.541726e-07</td>\n",
       "      <td>1.191927e-08</td>\n",
       "    </tr>\n",
       "  </tbody>\n",
       "</table>\n",
       "</div>"
      ],
      "text/plain": [
       "            0         1         2         3             4             5\n",
       "p_0  0.135593  0.004172  0.000249  0.000014  8.845969e-07  1.926138e-08\n",
       "p_1  0.016949  0.001180  0.000321  0.000021  8.156703e-07  3.079834e-08\n",
       "p_2  0.084746  0.002211  0.000353  0.000023  1.489032e-07  4.483945e-09\n",
       "p_3  0.118644  0.009421  0.000622  0.000024  8.052130e-07  4.252515e-08\n",
       "p_4  0.135593  0.008954  0.000344  0.000013  0.000000e+00  0.000000e+00\n",
       "p_5  0.135593  0.006074  0.000217  0.000008  0.000000e+00  0.000000e+00\n",
       "p_6  0.067797  0.005685  0.000174  0.000012  1.970493e-07  1.024902e-08\n",
       "p_7  0.152542  0.001023  0.000162  0.000011  1.237569e-06  4.164895e-08\n",
       "p_8  0.084746  0.004306  0.000330  0.000022  4.694962e-07  1.022290e-08\n",
       "p_9  0.067797  0.000000  0.000093  0.000006  3.541726e-07  1.191927e-08"
      ]
     },
     "execution_count": 333,
     "metadata": {},
     "output_type": "execute_result"
    }
   ],
   "source": [
    "F"
   ]
  },
  {
   "cell_type": "code",
   "execution_count": 334,
   "metadata": {},
   "outputs": [
    {
     "data": {
      "text/html": [
       "<div>\n",
       "<style scoped>\n",
       "    .dataframe tbody tr th:only-of-type {\n",
       "        vertical-align: middle;\n",
       "    }\n",
       "\n",
       "    .dataframe tbody tr th {\n",
       "        vertical-align: top;\n",
       "    }\n",
       "\n",
       "    .dataframe thead th {\n",
       "        text-align: right;\n",
       "    }\n",
       "</style>\n",
       "<table border=\"1\" class=\"dataframe\">\n",
       "  <thead>\n",
       "    <tr style=\"text-align: right;\">\n",
       "      <th></th>\n",
       "      <th>0</th>\n",
       "      <th>1</th>\n",
       "      <th>2</th>\n",
       "      <th>3</th>\n",
       "      <th>4</th>\n",
       "      <th>5</th>\n",
       "    </tr>\n",
       "  </thead>\n",
       "  <tbody>\n",
       "    <tr>\n",
       "      <th>p_0</th>\n",
       "      <td>0.0</td>\n",
       "      <td>5.0</td>\n",
       "      <td>5.0</td>\n",
       "      <td>8.0</td>\n",
       "      <td>8.0</td>\n",
       "      <td>8.0</td>\n",
       "    </tr>\n",
       "    <tr>\n",
       "      <th>p_1</th>\n",
       "      <td>0.0</td>\n",
       "      <td>0.0</td>\n",
       "      <td>3.0</td>\n",
       "      <td>3.0</td>\n",
       "      <td>3.0</td>\n",
       "      <td>0.0</td>\n",
       "    </tr>\n",
       "    <tr>\n",
       "      <th>p_2</th>\n",
       "      <td>0.0</td>\n",
       "      <td>7.0</td>\n",
       "      <td>3.0</td>\n",
       "      <td>3.0</td>\n",
       "      <td>2.0</td>\n",
       "      <td>7.0</td>\n",
       "    </tr>\n",
       "    <tr>\n",
       "      <th>p_3</th>\n",
       "      <td>0.0</td>\n",
       "      <td>4.0</td>\n",
       "      <td>4.0</td>\n",
       "      <td>4.0</td>\n",
       "      <td>4.0</td>\n",
       "      <td>7.0</td>\n",
       "    </tr>\n",
       "    <tr>\n",
       "      <th>p_4</th>\n",
       "      <td>0.0</td>\n",
       "      <td>7.0</td>\n",
       "      <td>4.0</td>\n",
       "      <td>4.0</td>\n",
       "      <td>0.0</td>\n",
       "      <td>0.0</td>\n",
       "    </tr>\n",
       "    <tr>\n",
       "      <th>p_5</th>\n",
       "      <td>0.0</td>\n",
       "      <td>0.0</td>\n",
       "      <td>4.0</td>\n",
       "      <td>4.0</td>\n",
       "      <td>0.0</td>\n",
       "      <td>0.0</td>\n",
       "    </tr>\n",
       "    <tr>\n",
       "      <th>p_6</th>\n",
       "      <td>0.0</td>\n",
       "      <td>7.0</td>\n",
       "      <td>5.0</td>\n",
       "      <td>1.0</td>\n",
       "      <td>1.0</td>\n",
       "      <td>7.0</td>\n",
       "    </tr>\n",
       "    <tr>\n",
       "      <th>p_7</th>\n",
       "      <td>0.0</td>\n",
       "      <td>3.0</td>\n",
       "      <td>3.0</td>\n",
       "      <td>3.0</td>\n",
       "      <td>3.0</td>\n",
       "      <td>3.0</td>\n",
       "    </tr>\n",
       "    <tr>\n",
       "      <th>p_8</th>\n",
       "      <td>0.0</td>\n",
       "      <td>8.0</td>\n",
       "      <td>6.0</td>\n",
       "      <td>8.0</td>\n",
       "      <td>8.0</td>\n",
       "      <td>8.0</td>\n",
       "    </tr>\n",
       "    <tr>\n",
       "      <th>p_9</th>\n",
       "      <td>0.0</td>\n",
       "      <td>0.0</td>\n",
       "      <td>3.0</td>\n",
       "      <td>3.0</td>\n",
       "      <td>3.0</td>\n",
       "      <td>3.0</td>\n",
       "    </tr>\n",
       "  </tbody>\n",
       "</table>\n",
       "</div>"
      ],
      "text/plain": [
       "       0    1    2    3    4    5\n",
       "p_0  0.0  5.0  5.0  8.0  8.0  8.0\n",
       "p_1  0.0  0.0  3.0  3.0  3.0  0.0\n",
       "p_2  0.0  7.0  3.0  3.0  2.0  7.0\n",
       "p_3  0.0  4.0  4.0  4.0  4.0  7.0\n",
       "p_4  0.0  7.0  4.0  4.0  0.0  0.0\n",
       "p_5  0.0  0.0  4.0  4.0  0.0  0.0\n",
       "p_6  0.0  7.0  5.0  1.0  1.0  7.0\n",
       "p_7  0.0  3.0  3.0  3.0  3.0  3.0\n",
       "p_8  0.0  8.0  6.0  8.0  8.0  8.0\n",
       "p_9  0.0  0.0  3.0  3.0  3.0  3.0"
      ]
     },
     "execution_count": 334,
     "metadata": {},
     "output_type": "execute_result"
    }
   ],
   "source": [
    "c"
   ]
  },
  {
   "cell_type": "code",
   "execution_count": 335,
   "metadata": {},
   "outputs": [],
   "source": [
    "# let's see the path of Viterbi\n",
    "def decoding(F,c):\n",
    "    path = []\n",
    "    idx = F[L].idxmax(axis=0)\n",
    "    path = [idx]+path\n",
    "    k = 'p_'+str(c[L][idx]).split('.')[0]\n",
    "    path = [k] + path \n",
    "    for i in range(L-1,1,-1):\n",
    "        k = 'p_'+ str(c[i][k]).split('.')[0]\n",
    "        path = [k] + path\n",
    "    return path"
   ]
  },
  {
   "cell_type": "code",
   "execution_count": 338,
   "metadata": {},
   "outputs": [
    {
     "data": {
      "text/plain": [
       "['p_4', 'p_4', 'p_3', 'p_7', 'p_3']"
      ]
     },
     "execution_count": 338,
     "metadata": {},
     "output_type": "execute_result"
    }
   ],
   "source": [
    "decoding(F,c)"
   ]
  },
  {
   "cell_type": "code",
   "execution_count": 339,
   "metadata": {},
   "outputs": [
    {
     "data": {
      "text/plain": [
       "['p_8', 'p_6', 'p_8', 'p_8', 'p_6']"
      ]
     },
     "execution_count": 339,
     "metadata": {},
     "output_type": "execute_result"
    }
   ],
   "source": [
    "simulated_path"
   ]
  },
  {
   "cell_type": "markdown",
   "metadata": {},
   "source": [
    "### Unfair casino"
   ]
  },
  {
   "cell_type": "markdown",
   "metadata": {},
   "source": [
    "#### $p_0$ corresponds to fair dice and $p_1$ for loaded dice\n",
    "#### $e_0,...,e_5$  corresponds to numbers 1...6 in dice"
   ]
  },
  {
   "cell_type": "code",
   "execution_count": 340,
   "metadata": {},
   "outputs": [
    {
     "name": "stdout",
     "output_type": "stream",
     "text": [
      "Please enter number of states:2\n",
      "Please enter number of emissions:6\n",
      "Please enter length of sequence:20\n",
      "Random emission and transition matrices and begin distribution are created\n",
      "Generated tables were saved\n"
     ]
    }
   ],
   "source": [
    "M = int(input('Please enter number of states:')) #here you must enter 2\n",
    "K = int(input('Please enter number of emissions:')) # here you must enter 6\n",
    "L = int(input('Please enter length of sequence:'))\n",
    "transition = pd.DataFrame(np.random.randint(0,10,size=(M, M))).add_prefix('p_').T.add_prefix('p_').T\n",
    "emission = pd.DataFrame(np.random.randint(0,10,size=(M, K))).add_prefix('e_').T.add_prefix('p_').T\n",
    "begin_distribution = pd.DataFrame(np.random.randint(1,10,size=(M, 1))).T.add_prefix('p_').T\n",
    "transition = transition.div(transition.sum(axis=1),axis=0)\n",
    "emission = emission.div(emission.sum(axis=1),axis=0)\n",
    "begin_distribution = begin_distribution.div(begin_distribution.sum(axis=0),axis=1)\n",
    "print('Random emission and transition matrices and begin distribution are created')\n",
    "transition.to_csv('transition.csv',sep='\\t')\n",
    "emission.to_csv('emission.csv',sep='\\t')\n",
    "begin_distribution.to_csv('begin_distribution.csv',sep='\\t')\n",
    "print('Generated tables were saved')"
   ]
  },
  {
   "cell_type": "code",
   "execution_count": 341,
   "metadata": {},
   "outputs": [],
   "source": [
    "transition1 = pd.read_csv('transition.csv',sep='\\t',index_col=0)\n",
    "emission1 = pd.read_csv('emission.csv',sep='\\t',index_col=0)\n",
    "begin_distribution1 = pd.read_csv('begin_distribution.csv',sep='\\t',index_col=0)"
   ]
  },
  {
   "cell_type": "code",
   "execution_count": 342,
   "metadata": {},
   "outputs": [],
   "source": [
    "## our data for casino\n",
    "transition1['p_0']['p_0']=0.95\n",
    "transition1['p_0']['p_1']=0.1\n",
    "transition1['p_1']['p_0']=0.05\n",
    "transition1['p_1']['p_1']=0.9\n",
    "begin_distribution1['0']['p_0']=2/3\n",
    "begin_distribution1['0']['p_1']=1/3\n",
    "emission1['e_0']['p_0']=1/6\n",
    "emission1['e_1']['p_0']=1/6\n",
    "emission1['e_2']['p_0']=1/6\n",
    "emission1['e_3']['p_0']=1/6\n",
    "emission1['e_4']['p_0']=1/6\n",
    "emission1['e_5']['p_0']=1/6\n",
    "emission1['e_0']['p_1']=0.1\n",
    "emission1['e_1']['p_1']=0.1\n",
    "emission1['e_2']['p_1']=0.1\n",
    "emission1['e_3']['p_1']=0.1\n",
    "emission1['e_4']['p_1']=0.1\n",
    "emission1['e_5']['p_1']=0.5"
   ]
  },
  {
   "cell_type": "code",
   "execution_count": 343,
   "metadata": {},
   "outputs": [],
   "source": [
    "#simulate some path and sequence\n",
    "simulated_path = HMM_random_generator_path(begin_distribution1,transition1,L)\n",
    "sequence = HMM_random_generator_sequence(simulated_path,emission1,L)"
   ]
  },
  {
   "cell_type": "code",
   "execution_count": 344,
   "metadata": {},
   "outputs": [],
   "source": [
    "F = forward_propagation(begin_distribution1,transition1,emission1,sequence)\n",
    "B = backward_propagation(F,transition1,emission1,sequence)"
   ]
  },
  {
   "cell_type": "code",
   "execution_count": 345,
   "metadata": {},
   "outputs": [],
   "source": [
    "#Viterbi\n",
    "F, c = viterbi_algorithm(transition1,emission1,sequence)"
   ]
  },
  {
   "cell_type": "code",
   "execution_count": 346,
   "metadata": {},
   "outputs": [
    {
     "data": {
      "text/plain": [
       "['p_0',\n",
       " 'p_0',\n",
       " 'p_0',\n",
       " 'p_0',\n",
       " 'p_0',\n",
       " 'p_0',\n",
       " 'p_0',\n",
       " 'p_0',\n",
       " 'p_0',\n",
       " 'p_0',\n",
       " 'p_0',\n",
       " 'p_0',\n",
       " 'p_0',\n",
       " 'p_0',\n",
       " 'p_0',\n",
       " 'p_0',\n",
       " 'p_0',\n",
       " 'p_0',\n",
       " 'p_0',\n",
       " 'p_0']"
      ]
     },
     "execution_count": 346,
     "metadata": {},
     "output_type": "execute_result"
    }
   ],
   "source": [
    "decoding(F,c)"
   ]
  },
  {
   "cell_type": "code",
   "execution_count": 347,
   "metadata": {},
   "outputs": [
    {
     "data": {
      "text/plain": [
       "['p_1',\n",
       " 'p_1',\n",
       " 'p_1',\n",
       " 'p_1',\n",
       " 'p_1',\n",
       " 'p_0',\n",
       " 'p_0',\n",
       " 'p_0',\n",
       " 'p_0',\n",
       " 'p_0',\n",
       " 'p_0',\n",
       " 'p_1',\n",
       " 'p_0',\n",
       " 'p_0',\n",
       " 'p_0',\n",
       " 'p_0',\n",
       " 'p_0',\n",
       " 'p_0',\n",
       " 'p_0',\n",
       " 'p_0']"
      ]
     },
     "execution_count": 347,
     "metadata": {},
     "output_type": "execute_result"
    }
   ],
   "source": [
    "simulated_path"
   ]
  },
  {
   "cell_type": "code",
   "execution_count": null,
   "metadata": {},
   "outputs": [],
   "source": []
  }
 ],
 "metadata": {
  "kernelspec": {
   "display_name": "Python 3",
   "language": "python",
   "name": "python3"
  },
  "language_info": {
   "codemirror_mode": {
    "name": "ipython",
    "version": 3
   },
   "file_extension": ".py",
   "mimetype": "text/x-python",
   "name": "python",
   "nbconvert_exporter": "python",
   "pygments_lexer": "ipython3",
   "version": "3.6.6"
  }
 },
 "nbformat": 4,
 "nbformat_minor": 2
}
